{
 "cells": [
  {
   "cell_type": "code",
   "execution_count": 4,
   "id": "a3aa206b",
   "metadata": {},
   "outputs": [],
   "source": [
    "import json\n",
    "\n",
    "# Load config.json (add this after your existing imports)\n",
    "def load_config():\n",
    "    try:\n",
    "        with open(\"/home/ayush/Projects_1/sales-bot/sales-bot-prediction/backend/config.json\", \"r\") as f:\n",
    "            return json.load(f)\n",
    "    except FileNotFoundError:\n",
    "        print(\"[ERROR] config.json not found!\")\n",
    "        return {}\n",
    "\n",
    "\n",
    "config = load_config()"
   ]
  },
  {
   "cell_type": "code",
   "execution_count": 5,
   "metadata": {},
   "outputs": [
    {
     "name": "stdout",
     "output_type": "stream",
     "text": [
      "{'company_info': {'name': 'FinanceHub Solutions', 'phone': '+91-9876543210', 'email': 'support@financehub.com', 'address': '123 Business Park, Mumbai, Maharashtra 400001', 'working_hours': 'Monday to Friday: 9 AM to 6 PM, Saturday: 9 AM to 1 PM'}, 'quick_faqs': {'contact': {'keywords': ['contact', 'phone', 'email', 'address', 'reach', 'call'], 'answer': \"You can reach us at +91-9876543210 or email support@financehub.com. Our office is at 123 Business Park, Mumbai. We're open Monday to Friday: 9 AM to 6 PM.\", 'source': 'Company Information'}, 'working_hours': {'keywords': ['hours', 'time', 'open', 'close', 'timing', 'schedule'], 'answer': \"We are open Monday to Friday from 9 AM to 6 PM, and Saturday from 9 AM to 1 PM. We're closed on Sundays and public holidays.\", 'source': 'Company Information'}, 'application_process': {'keywords': ['apply', 'application', 'process', 'how to', 'steps', 'procedure'], 'answer': 'Our loan application process is simple: 1) Fill online application 2) Submit documents 3) Get instant approval 4) Receive funds in 24-48 hours. You can start your application by calling us or visiting our website.', 'source': 'Company Process Guide'}, 'documents_required': {'keywords': ['documents', 'papers', 'requirements', 'needed', 'submit'], 'answer': 'Generally required documents: PAN Card, Aadhaar Card, Salary Slips (3 months), Bank Statements (6 months), Employment Letter. Specific requirements may vary by loan type.', 'source': 'Company Process Guide'}, 'eligibility': {'keywords': ['eligible', 'qualify', 'criteria', 'minimum', 'requirement'], 'answer': 'Basic eligibility: Age 21-65 years, Minimum salary ₹25,000/month, Employment history 2+ years, Good credit score. Specific criteria vary by loan product.', 'source': 'Company Policy'}, 'processing_time': {'keywords': ['time', 'duration', 'fast', 'quick', 'how long', 'processing'], 'answer': 'We offer quick processing! Application review: 2-4 hours, Approval: Same day, Fund disbursement: 24-48 hours after approval. Home loans may take 3-7 days due to property verification.', 'source': 'Company Service Standards'}}, 'nudges': {'pricing_interest': 'Interested in our competitive rates? I can help you find the perfect loan plan!', 'application_ready': 'Ready to apply? I can guide you through our simple 4-step process!', 'document_help': \"Need help with documents? I can tell you exactly what's required for your loan type!\"}, 'lead_capture': {'fields': ['name', 'email', 'phone', 'loan_type', 'loan_amount'], 'success_message': 'Thank you! Our team will contact you within 2 hours during business hours.'}, 'fallback_responses': {'no_answer': \"I don't have specific information about that, but our team can help! Please call +91-9876543210 or share your contact details.\", 'rag_intro': 'Based on our loan products information:', 'source_attribution': 'This information comes from our official product catalog.'}}\n"
     ]
    }
   ],
   "source": [
    "print(config)"
   ]
  },
  {
   "cell_type": "code",
   "execution_count": 8,
   "id": "a13575e4",
   "metadata": {},
   "outputs": [
    {
     "data": {
      "text/plain": [
       "dict_items([('contact', {'keywords': ['contact', 'phone', 'email', 'address', 'reach', 'call'], 'answer': \"You can reach us at +91-9876543210 or email support@financehub.com. Our office is at 123 Business Park, Mumbai. We're open Monday to Friday: 9 AM to 6 PM.\", 'source': 'Company Information'}), ('working_hours', {'keywords': ['hours', 'time', 'open', 'close', 'timing', 'schedule'], 'answer': \"We are open Monday to Friday from 9 AM to 6 PM, and Saturday from 9 AM to 1 PM. We're closed on Sundays and public holidays.\", 'source': 'Company Information'}), ('application_process', {'keywords': ['apply', 'application', 'process', 'how to', 'steps', 'procedure'], 'answer': 'Our loan application process is simple: 1) Fill online application 2) Submit documents 3) Get instant approval 4) Receive funds in 24-48 hours. You can start your application by calling us or visiting our website.', 'source': 'Company Process Guide'}), ('documents_required', {'keywords': ['documents', 'papers', 'requirements', 'needed', 'submit'], 'answer': 'Generally required documents: PAN Card, Aadhaar Card, Salary Slips (3 months), Bank Statements (6 months), Employment Letter. Specific requirements may vary by loan type.', 'source': 'Company Process Guide'}), ('eligibility', {'keywords': ['eligible', 'qualify', 'criteria', 'minimum', 'requirement'], 'answer': 'Basic eligibility: Age 21-65 years, Minimum salary ₹25,000/month, Employment history 2+ years, Good credit score. Specific criteria vary by loan product.', 'source': 'Company Policy'}), ('processing_time', {'keywords': ['time', 'duration', 'fast', 'quick', 'how long', 'processing'], 'answer': 'We offer quick processing! Application review: 2-4 hours, Approval: Same day, Fund disbursement: 24-48 hours after approval. Home loans may take 3-7 days due to property verification.', 'source': 'Company Service Standards'})])"
      ]
     },
     "execution_count": 8,
     "metadata": {},
     "output_type": "execute_result"
    }
   ],
   "source": [
    "config.get(\"quick_faqs\",{}).items()"
   ]
  },
  {
   "cell_type": "code",
   "execution_count": 9,
   "id": "6d65cd48",
   "metadata": {},
   "outputs": [
    {
     "data": {
      "text/plain": [
       "{'found': True,\n",
       " 'answer': \"We are open Monday to Friday from 9 AM to 6 PM, and Saturday from 9 AM to 1 PM. We're closed on Sundays and public holidays.\",\n",
       " 'source': 'Company Information',\n",
       " 'category': 'working_hours'}"
      ]
     },
     "execution_count": 9,
     "metadata": {},
     "output_type": "execute_result"
    }
   ],
   "source": [
    "def check_quick_faq(user_question):\n",
    "    \"\"\"Check if question matches any FAQ keyword\"\"\"\n",
    "    user_question = user_question.lower()\n",
    "    \n",
    "    for faq_name, faq_data in config.get(\"quick_faqs\", {}).items():\n",
    "        keywords = faq_data.get(\"keywords\", [])\n",
    "        \n",
    "        # Check if any keyword matches\n",
    "        for keyword in keywords:\n",
    "            if keyword in user_question:\n",
    "                return {\n",
    "                    \"found\": True,\n",
    "                    \"answer\": faq_data[\"answer\"],\n",
    "                    \"source\": faq_data[\"source\"],\n",
    "                    \"category\": faq_name\n",
    "                }\n",
    "    \n",
    "    return {\"found\": False}\n",
    "\n",
    "\n",
    "check_quick_faq(\"when is the office open?\")"
   ]
  },
  {
   "cell_type": "code",
   "execution_count": null,
   "id": "e325a866",
   "metadata": {},
   "outputs": [],
   "source": []
  }
 ],
 "metadata": {
  "kernelspec": {
   "display_name": "chatbot",
   "language": "python",
   "name": "python3"
  },
  "language_info": {
   "codemirror_mode": {
    "name": "ipython",
    "version": 3
   },
   "file_extension": ".py",
   "mimetype": "text/x-python",
   "name": "python",
   "nbconvert_exporter": "python",
   "pygments_lexer": "ipython3",
   "version": "3.12.0"
  }
 },
 "nbformat": 4,
 "nbformat_minor": 5
}
